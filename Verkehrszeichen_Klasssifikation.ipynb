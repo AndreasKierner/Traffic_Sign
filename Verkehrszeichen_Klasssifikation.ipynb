{
 "cells": [
  {
   "cell_type": "code",
   "execution_count": 1,
   "metadata": {},
   "outputs": [],
   "source": [
    "import numpy as np \n",
    "import pandas as pd \n",
    "import matplotlib.pyplot as plt\n",
    "import cv2\n",
    "import tensorflow as tf\n",
    "from PIL import Image\n",
    "import os\n",
    "#Pfad des Projekts\n",
    "os.chdir('C:/Users/Basti/Documents/Projekt_Neuronale Netze/Traffic_Sign_mlp')\n",
    "from sklearn.model_selection import train_test_split\n",
    "from keras.utils import to_categorical\n",
    "from keras.models import Sequential, load_model\n",
    "from keras.layers import  Dense, Flatten, Dropout"
   ]
  },
  {
   "cell_type": "code",
   "execution_count": 2,
   "metadata": {},
   "outputs": [],
   "source": [
    "images = []\n",
    "labels = []\n",
    "#Classes: 43 Kennzeichen \n",
    "classes = 43\n",
    "cur_path = os.getcwd()"
   ]
  },
  {
   "cell_type": "code",
   "execution_count": 3,
   "metadata": {},
   "outputs": [
    {
     "data": {
      "text/plain": [
       "'C:\\\\Users\\\\Basti\\\\Documents\\\\Projekt_Neuronale Netze\\\\Traffic_Sign_mlp'"
      ]
     },
     "execution_count": 3,
     "metadata": {},
     "output_type": "execute_result"
    }
   ],
   "source": [
    "cur_path"
   ]
  },
  {
   "cell_type": "markdown",
   "metadata": {},
   "source": [
    "## Daten vorbereiten"
   ]
  },
  {
   "cell_type": "code",
   "execution_count": 4,
   "metadata": {},
   "outputs": [],
   "source": [
    "#Image-Dateien werden in Data-Array gespeichert,Foldername(Klassenname) Label zugeordnet\n",
    "# i = folder=label\n",
    "for i in range(classes):\n",
    "    path = os.path.join('C:/Users/Basti/Documents/Projekt_Neuronale Netze/Data_image/data','train',str(i))\n",
    "    imagefolder = os.listdir(path)\n",
    "    #Schleife geht Images der Folders durch und speichert Images in Daten und Klasssen(i) in labels\n",
    "    for a in imagefolder:\n",
    "        try:\n",
    "            im = Image.open(path + '\\\\'+ a)\n",
    "            im = im.resize((30,30))\n",
    "            im = np.array(im)/255.0\n",
    "            images.append(im)\n",
    "            labels.append(i)\n",
    "        except Exception as e:\n",
    "            print(e)"
   ]
  },
  {
   "cell_type": "markdown",
   "metadata": {},
   "source": [
    "## Daten in numpy arrays speichern"
   ]
  },
  {
   "cell_type": "code",
   "execution_count": 5,
   "metadata": {},
   "outputs": [],
   "source": [
    "images = np.array(images)\n",
    "labels = np.array(labels)\n",
    "\n",
    "#os.mkdir('training')\n",
    "#Data=images, target= labels(Klassen)\n",
    "np.save('C:/Users/Basti/Documents/Projekt_Neuronale Netze/Traffic_Sign_mlp/training/data',images)\n",
    "np.save('C:/Users/Basti/Documents/Projekt_Neuronale Netze/Traffic_Sign_mlp/training/target',labels)"
   ]
  },
  {
   "cell_type": "markdown",
   "metadata": {},
   "source": [
    "# Daten laden"
   ]
  },
  {
   "cell_type": "code",
   "execution_count": 6,
   "metadata": {},
   "outputs": [],
   "source": [
    "images=np.load('C:/Users/Basti/Documents/Projekt_Neuronale Netze/Traffic_Sign_mlp/training/data.npy')\n",
    "labels=np.load('C:/Users/Basti/Documents/Projekt_Neuronale Netze/Traffic_Sign_mlp/training/target.npy')"
   ]
  },
  {
   "cell_type": "code",
   "execution_count": 7,
   "metadata": {},
   "outputs": [
    {
     "name": "stdout",
     "output_type": "stream",
     "text": [
      "(39209, 30, 30, 3) (39209,)\n"
     ]
    }
   ],
   "source": [
    "#data(anzahl daten, Image size: wight,hight;3= color channels rgb),labels(Anzahl labels)\n",
    "#39209 entspricht Anzahl der Testimages\n",
    "print(images.shape, labels.shape)"
   ]
  },
  {
   "cell_type": "code",
   "execution_count": 8,
   "metadata": {},
   "outputs": [],
   "source": [
    "# teilt Datensatz in 80% Training und 20% Testsets, x_train(anzahl images,Imagesize,3??)=Input, y=Labels)\n",
    "#später beim Training relevant (x_train und y_train werden verglichen)\n",
    "\n",
    "X_train, X_test, y_train, y_test = train_test_split(images, labels, test_size=0.2, random_state=0)"
   ]
  },
  {
   "cell_type": "code",
   "execution_count": 9,
   "metadata": {},
   "outputs": [
    {
     "name": "stdout",
     "output_type": "stream",
     "text": [
      "(31367, 30, 30, 3) (7842, 30, 30, 3) (31367,) (7842,)\n"
     ]
    }
   ],
   "source": [
    "print(X_train.shape, X_test.shape, y_train.shape, y_test.shape)"
   ]
  },
  {
   "cell_type": "markdown",
   "metadata": {},
   "source": [
    "# konvertieren über onehot-encoding"
   ]
  },
  {
   "cell_type": "code",
   "execution_count": 10,
   "metadata": {},
   "outputs": [],
   "source": [
    "#Labels werden in 43 Klassen konvertiert\n",
    "y_train = to_categorical(y_train, 43)\n",
    "y_test = to_categorical(y_test, 43)"
   ]
  },
  {
   "cell_type": "markdown",
   "metadata": {},
   "source": [
    "# MLP model erstellen"
   ]
  },
  {
   "cell_type": "code",
   "execution_count": 11,
   "metadata": {},
   "outputs": [],
   "source": [
    "model = Sequential()\n",
    "#inputlayer,  nodes,aktivierung,  input_shap\n",
    "#flatten:MLP verwendet einfache Datenvektoren, Arrays, wenn man so will, mit den x-Werten eines jeden Eingabebildes versehen. Da unser Bild eine 32x32-Matrix ist, müssen wir es in einen abgeflachten Vektor umwandeln\n",
    "model.add(Flatten(input_shape=X_train.shape[1:]))\n",
    "#\n",
    "model.add(Dense(512, activation=\"relu\"))\n",
    "model.add(Dropout(0.25))\n",
    "\n",
    "model.add(Dense(256, activation=\"relu\"))\n",
    "model.add(Dropout(0.25))\n",
    "\n",
    "model.add(Dense(43, activation=\"softmax\"))\n"
   ]
  },
  {
   "cell_type": "code",
   "execution_count": 12,
   "metadata": {},
   "outputs": [
    {
     "name": "stdout",
     "output_type": "stream",
     "text": [
      "Model: \"sequential\"\n",
      "_________________________________________________________________\n",
      "Layer (type)                 Output Shape              Param #   \n",
      "=================================================================\n",
      "flatten (Flatten)            (None, 2700)              0         \n",
      "_________________________________________________________________\n",
      "dense (Dense)                (None, 512)               1382912   \n",
      "_________________________________________________________________\n",
      "dropout (Dropout)            (None, 512)               0         \n",
      "_________________________________________________________________\n",
      "dense_1 (Dense)              (None, 256)               131328    \n",
      "_________________________________________________________________\n",
      "dropout_1 (Dropout)          (None, 256)               0         \n",
      "_________________________________________________________________\n",
      "dense_2 (Dense)              (None, 43)                11051     \n",
      "=================================================================\n",
      "Total params: 1,525,291\n",
      "Trainable params: 1,525,291\n",
      "Non-trainable params: 0\n",
      "_________________________________________________________________\n"
     ]
    }
   ],
   "source": [
    "model.summary()"
   ]
  },
  {
   "cell_type": "code",
   "execution_count": 13,
   "metadata": {},
   "outputs": [
    {
     "data": {
      "text/plain": [
       "(None, 43)"
      ]
     },
     "execution_count": 13,
     "metadata": {},
     "output_type": "execute_result"
    }
   ],
   "source": [
    "model.output_shape"
   ]
  },
  {
   "cell_type": "markdown",
   "metadata": {},
   "source": [
    "# MLP kompilieren"
   ]
  },
  {
   "cell_type": "code",
   "execution_count": 14,
   "metadata": {},
   "outputs": [],
   "source": [
    "# Für ein multi-class Klassifikationsproblem\n",
    "model.compile(optimizer='rmsprop',\n",
    "              loss='categorical_crossentropy',\n",
    "              metrics=['accuracy'])"
   ]
  },
  {
   "cell_type": "markdown",
   "metadata": {},
   "source": [
    "# MLP trainieren"
   ]
  },
  {
   "cell_type": "code",
   "execution_count": 15,
   "metadata": {},
   "outputs": [
    {
     "name": "stdout",
     "output_type": "stream",
     "text": [
      "Epoch 1/10\n",
      "981/981 [==============================] - 90s 91ms/step - loss: 2.3738 - accuracy: 0.3456 - val_loss: 1.5735 - val_accuracy: 0.5406- ETA: 30s - E\n",
      "Epoch 2/10\n",
      "981/981 [==============================] - 93s 94ms/step - loss: 1.3777 - accuracy: 0.5898 - val_loss: 0.9619 - val_accuracy: 0.6970\n",
      "Epoch 3/10\n",
      "981/981 [==============================] - 116s 118ms/step - loss: 1.0520 - accuracy: 0.6846 - val_loss: 1.0305 - val_accuracy: 0.6917\n",
      "Epoch 4/10\n",
      "981/981 [==============================] - 117s 119ms/step - loss: 0.9065 - accuracy: 0.7332 - val_loss: 0.6955 - val_accuracy: 0.7924\n",
      "Epoch 5/10\n",
      "981/981 [==============================] - 114s 116ms/step - loss: 0.8281 - accuracy: 0.7585 - val_loss: 0.5565 - val_accuracy: 0.8466\n",
      "Epoch 6/10\n",
      "981/981 [==============================] - 118s 120ms/step - loss: 0.7770 - accuracy: 0.7780 - val_loss: 0.6650 - val_accuracy: 0.7914\n",
      "Epoch 7/10\n",
      "981/981 [==============================] - 108s 110ms/step - loss: 0.7470 - accuracy: 0.7897 - val_loss: 0.5232 - val_accuracy: 0.8484 28s - loss: 0.7527 - ETA: 26s - loss:  \n",
      "Epoch 8/10\n",
      "981/981 [==============================] - 106s 108ms/step - loss: 0.7192 - accuracy: 0.7987 - val_loss: 0.7044 - val_accuracy: 0.8240\n",
      "Epoch 9/10\n",
      "981/981 [==============================] - 98s 100ms/step - loss: 0.7293 - accuracy: 0.8048 - val_loss: 0.8723 - val_accuracy: 0.7730\n",
      "Epoch 10/10\n",
      "981/981 [==============================] - 95s 97ms/step - loss: 0.7065 - accuracy: 0.8098 - val_loss: 0.5096 - val_accuracy: 0.8483\n"
     ]
    }
   ],
   "source": [
    "epochs = 10\n",
    "history = model.fit(X_train, y_train, batch_size=32, epochs=epochs, validation_data=(X_test, y_test))"
   ]
  },
  {
   "cell_type": "code",
   "execution_count": 16,
   "metadata": {},
   "outputs": [
    {
     "data": {
      "image/png": "[encoded data removed]",
      "text/plain": [
       "<Figure size 432x288 with 1 Axes>"
      ]
     },
     "metadata": {
      "needs_background": "light"
     },
     "output_type": "display_data"
    }
   ],
   "source": [
    "# Genauigkeit\n",
    "plt.figure(0)\n",
    "plt.plot(history.history['accuracy'], label='Genauigkeit training')\n",
    "plt.plot(history.history['val_accuracy'], label='Genauigkeit Validation')\n",
    "plt.title('Genauigkeit')\n",
    "plt.xlabel('Epochen')\n",
    "plt.ylabel('Genauigkeit')\n",
    "plt.legend()\n",
    "plt.show()"
   ]
  },
  {
   "cell_type": "code",
   "execution_count": 17,
   "metadata": {},
   "outputs": [
    {
     "data": {
      "image/png": "[encoded data removed]",
      "text/plain": [
       "<Figure size 432x288 with 1 Axes>"
      ]
     },
     "metadata": {
      "needs_background": "light"
     },
     "output_type": "display_data"
    }
   ],
   "source": [
    "# Verlust\n",
    "plt.plot(history.history['loss'], label='Verlust Training')\n",
    "plt.plot(history.history['val_loss'], label='Verlust Validation')\n",
    "plt.title('Verlust')\n",
    "plt.xlabel('Epochen')\n",
    "plt.ylabel('Verlust')\n",
    "plt.legend()\n",
    "plt.show()"
   ]
  },
  {
   "cell_type": "markdown",
   "metadata": {},
   "source": [
    "# mit Testdatensatz Genauigkeit testen"
   ]
  },
  {
   "cell_type": "code",
   "execution_count": 18,
   "metadata": {},
   "outputs": [],
   "source": [
    "def testing(testcsv):\n",
    "    y_test = pd.read_csv(testcsv)\n",
    "    label = y_test[\"ClassId\"].values\n",
    "    imgs = y_test[\"Path\"].values\n",
    "    data=[]\n",
    "    for img in imgs:\n",
    "        image = Image.open(img)\n",
    "        image = image.resize((30,30))\n",
    "        data.append(np.array(image))\n",
    "    X_test=np.array(data)\n",
    "    return X_test,label"
   ]
  },
  {
   "cell_type": "code",
   "execution_count": null,
   "metadata": {},
   "outputs": [],
   "source": [
    "X_test, label = testing('C:/Users/Basti/Documents/Projekt_Neuronale Netze/Data_image/data/Test.csv')"
   ]
  },
  {
   "cell_type": "markdown",
   "metadata": {},
   "source": [
    "# Genauigkeit berechnen"
   ]
  },
  {
   "cell_type": "code",
   "execution_count": null,
   "metadata": {},
   "outputs": [],
   "source": [
    "#MLP:\n",
    "Y_pred = model.predict_classes(X_test)\n",
    "Y_pred"
   ]
  },
  {
   "cell_type": "markdown",
   "metadata": {},
   "source": [
    "from sklearn.metrics import accuracy_score\n",
    "print(accuracy_score(label, Y_pred))"
   ]
  },
  {
   "cell_type": "markdown",
   "metadata": {},
   "source": [
    "# Model speichern"
   ]
  },
  {
   "cell_type": "code",
   "execution_count": null,
   "metadata": {},
   "outputs": [],
   "source": [
    "model.save(\"./training/TSR_mlp.h5\")"
   ]
  },
  {
   "cell_type": "markdown",
   "metadata": {},
   "source": [
    "# Model laden"
   ]
  },
  {
   "cell_type": "code",
   "execution_count": null,
   "metadata": {},
   "outputs": [],
   "source": [
    "import os\n",
    "os.chdir(r'C:/Users/Basti/Documents/Projekt_Neuronale Netze/Traffic_Sign_mlp')\n",
    "from keras.models import load_model\n",
    "model = load_model('./training/TSR_mlp.h5')"
   ]
  },
  {
   "cell_type": "code",
   "execution_count": null,
   "metadata": {},
   "outputs": [],
   "source": [
    "# Classes of trafic signs\n",
    "classes = { 0:'Speed limit (20km/h)',\n",
    "            1:'Speed limit (30km/h)', \n",
    "            2:'Speed limit (50km/h)', \n",
    "            3:'Speed limit (60km/h)', \n",
    "            4:'Speed limit (70km/h)', \n",
    "            5:'Speed limit (80km/h)', \n",
    "            6:'End of speed limit (80km/h)', \n",
    "            7:'Speed limit (100km/h)', \n",
    "            8:'Speed limit (120km/h)', \n",
    "            9:'No passing', \n",
    "            10:'No passing veh over 3.5 tons', \n",
    "            11:'Right-of-way at intersection', \n",
    "            12:'Priority road', \n",
    "            13:'Yield', \n",
    "            14:'Stop', \n",
    "            15:'No vehicles', \n",
    "            16:'Veh > 3.5 tons prohibited', \n",
    "            17:'No entry', \n",
    "            18:'General caution', \n",
    "            19:'Dangerous curve left', \n",
    "            20:'Dangerous curve right', \n",
    "            21:'Double curve', \n",
    "            22:'Bumpy road', \n",
    "            23:'Slippery road', \n",
    "            24:'Road narrows on the right', \n",
    "            25:'Road work', \n",
    "            26:'Traffic signals', \n",
    "            27:'Pedestrians', \n",
    "            28:'Children crossing', \n",
    "            29:'Bicycles crossing', \n",
    "            30:'Beware of ice/snow',\n",
    "            31:'Wild animals crossing', \n",
    "            32:'End speed + passing limits', \n",
    "            33:'Turn right ahead', \n",
    "            34:'Turn left ahead', \n",
    "            35:'Ahead only', \n",
    "            36:'Go straight or right', \n",
    "            37:'Go straight or left', \n",
    "            38:'Keep right', \n",
    "            39:'Keep left', \n",
    "            40:'Roundabout mandatory', \n",
    "            41:'End of no passing', \n",
    "            42:'End no passing veh > 3.5 tons' }"
   ]
  },
  {
   "cell_type": "markdown",
   "metadata": {},
   "source": [
    "# Test mit Einfügen von Bildern"
   ]
  },
  {
   "cell_type": "code",
   "execution_count": null,
   "metadata": {},
   "outputs": [],
   "source": [
    "from PIL import Image\n",
    "import numpy as np\n",
    "import matplotlib.pyplot as plt\n",
    "def test_on_img(img):\n",
    "    data=[]\n",
    "    image = Image.open(img)\n",
    "    image = image.resize((30,30))\n",
    "    data.append(np.array(image))\n",
    "    X_test=np.array(data)\n",
    "    Y_pred = model.predict_classes(X_test)\n",
    "    return image,Y_pred"
   ]
  },
  {
   "cell_type": "code",
   "execution_count": null,
   "metadata": {},
   "outputs": [],
   "source": [
    "plot,prediction = test_on_img(r'C:/Users/Basti/Documents/Projekt_Neuronale Netze/Traffic_Sign_mlp/Test/00807.png')\n",
    "s = [str(i) for i in prediction] \n",
    "a = int(\"\".join(s)) \n",
    "print(\"Das Verkehrszeichen sagt: \", classes[a])\n",
    "print(\"Bild anzeigen:\")\n",
    "plt.imshow(plot)\n",
    "plt.show()"
   ]
  }
 ],
 "metadata": {
  "kernelspec": {
   "display_name": "Python 3",
   "language": "python",
   "name": "python3"
  },
  "language_info": {
   "codemirror_mode": {
    "name": "ipython",
    "version": 3
   },
   "file_extension": ".py",
   "mimetype": "text/x-python",
   "name": "python",
   "nbconvert_exporter": "python",
   "pygments_lexer": "ipython3",
   "version": "3.8.6rc1"
  }
 },
 "nbformat": 4,
 "nbformat_minor": 4
}
